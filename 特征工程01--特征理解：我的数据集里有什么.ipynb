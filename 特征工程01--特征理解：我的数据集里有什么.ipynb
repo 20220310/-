{
 "cells": [
  {
   "cell_type": "markdown",
   "id": "a43eee3b",
   "metadata": {},
   "source": [
    "1.结构化数据和非结构化数据\n",
    "结构化数据：数值型，一般为表格，行为样本，列为特征；\n",
    "非结构化数据：一团数据，一般为文本或图片\n",
    "2.定量数据和定性数据\n",
    "\n",
    "下面结合代码具体演示"
   ]
  },
  {
   "cell_type": "code",
   "execution_count": 1,
   "id": "60f7cfdd",
   "metadata": {},
   "outputs": [],
   "source": [
    "#定类等级：种类，可以计算众数\n",
    "import pandas as pd\n",
    "import numpy as np\n",
    "import matplotlib.pyplot as plt\n",
    "import seaborn as sns\n",
    "\n",
    "plt.style.use('grayscale')\n",
    "#房价预测数据\n",
    "house_prices=pd.read_csv('E:\\\\ml\\\\数据集\\\\train_dataset.csv')"
   ]
  },
  {
   "cell_type": "code",
   "execution_count": 2,
   "id": "6fe70ed6",
   "metadata": {},
   "outputs": [
    {
     "data": {
      "text/html": [
       "<div>\n",
       "<style scoped>\n",
       "    .dataframe tbody tr th:only-of-type {\n",
       "        vertical-align: middle;\n",
       "    }\n",
       "\n",
       "    .dataframe tbody tr th {\n",
       "        vertical-align: top;\n",
       "    }\n",
       "\n",
       "    .dataframe thead th {\n",
       "        text-align: right;\n",
       "    }\n",
       "</style>\n",
       "<table border=\"1\" class=\"dataframe\">\n",
       "  <thead>\n",
       "    <tr style=\"text-align: right;\">\n",
       "      <th></th>\n",
       "      <th>CRIM</th>\n",
       "      <th>ZN</th>\n",
       "      <th>INDUS</th>\n",
       "      <th>CHAS</th>\n",
       "      <th>NOX</th>\n",
       "      <th>RM</th>\n",
       "      <th>AGE</th>\n",
       "      <th>DIS</th>\n",
       "      <th>RAD</th>\n",
       "      <th>TAX</th>\n",
       "      <th>PIRATIO</th>\n",
       "      <th>B</th>\n",
       "      <th>LSTAT</th>\n",
       "      <th>PRICE</th>\n",
       "    </tr>\n",
       "  </thead>\n",
       "  <tbody>\n",
       "    <tr>\n",
       "      <th>0</th>\n",
       "      <td>0.00632</td>\n",
       "      <td>18.0</td>\n",
       "      <td>2.31</td>\n",
       "      <td>0</td>\n",
       "      <td>0.538</td>\n",
       "      <td>6.575</td>\n",
       "      <td>65.2</td>\n",
       "      <td>4.0900</td>\n",
       "      <td>1</td>\n",
       "      <td>296</td>\n",
       "      <td>15.3</td>\n",
       "      <td>396.90</td>\n",
       "      <td>4.98</td>\n",
       "      <td>24.0</td>\n",
       "    </tr>\n",
       "    <tr>\n",
       "      <th>1</th>\n",
       "      <td>0.02731</td>\n",
       "      <td>0.0</td>\n",
       "      <td>7.07</td>\n",
       "      <td>0</td>\n",
       "      <td>0.469</td>\n",
       "      <td>6.421</td>\n",
       "      <td>78.9</td>\n",
       "      <td>4.9671</td>\n",
       "      <td>2</td>\n",
       "      <td>242</td>\n",
       "      <td>17.8</td>\n",
       "      <td>396.90</td>\n",
       "      <td>9.14</td>\n",
       "      <td>21.6</td>\n",
       "    </tr>\n",
       "    <tr>\n",
       "      <th>2</th>\n",
       "      <td>0.02729</td>\n",
       "      <td>0.0</td>\n",
       "      <td>7.07</td>\n",
       "      <td>0</td>\n",
       "      <td>0.469</td>\n",
       "      <td>7.185</td>\n",
       "      <td>61.1</td>\n",
       "      <td>4.9671</td>\n",
       "      <td>2</td>\n",
       "      <td>242</td>\n",
       "      <td>17.8</td>\n",
       "      <td>392.83</td>\n",
       "      <td>4.03</td>\n",
       "      <td>34.7</td>\n",
       "    </tr>\n",
       "    <tr>\n",
       "      <th>3</th>\n",
       "      <td>0.03237</td>\n",
       "      <td>0.0</td>\n",
       "      <td>2.18</td>\n",
       "      <td>0</td>\n",
       "      <td>0.458</td>\n",
       "      <td>6.998</td>\n",
       "      <td>45.8</td>\n",
       "      <td>6.0622</td>\n",
       "      <td>3</td>\n",
       "      <td>222</td>\n",
       "      <td>18.7</td>\n",
       "      <td>394.63</td>\n",
       "      <td>2.94</td>\n",
       "      <td>33.4</td>\n",
       "    </tr>\n",
       "    <tr>\n",
       "      <th>4</th>\n",
       "      <td>0.17004</td>\n",
       "      <td>12.5</td>\n",
       "      <td>7.87</td>\n",
       "      <td>0</td>\n",
       "      <td>0.524</td>\n",
       "      <td>6.004</td>\n",
       "      <td>85.9</td>\n",
       "      <td>6.5921</td>\n",
       "      <td>5</td>\n",
       "      <td>311</td>\n",
       "      <td>15.2</td>\n",
       "      <td>386.71</td>\n",
       "      <td>17.10</td>\n",
       "      <td>18.9</td>\n",
       "    </tr>\n",
       "  </tbody>\n",
       "</table>\n",
       "</div>"
      ],
      "text/plain": [
       "      CRIM    ZN  INDUS  CHAS    NOX     RM   AGE     DIS  RAD  TAX  PIRATIO  \\\n",
       "0  0.00632  18.0   2.31     0  0.538  6.575  65.2  4.0900    1  296     15.3   \n",
       "1  0.02731   0.0   7.07     0  0.469  6.421  78.9  4.9671    2  242     17.8   \n",
       "2  0.02729   0.0   7.07     0  0.469  7.185  61.1  4.9671    2  242     17.8   \n",
       "3  0.03237   0.0   2.18     0  0.458  6.998  45.8  6.0622    3  222     18.7   \n",
       "4  0.17004  12.5   7.87     0  0.524  6.004  85.9  6.5921    5  311     15.2   \n",
       "\n",
       "        B  LSTAT  PRICE  \n",
       "0  396.90   4.98   24.0  \n",
       "1  396.90   9.14   21.6  \n",
       "2  392.83   4.03   34.7  \n",
       "3  394.63   2.94   33.4  \n",
       "4  386.71  17.10   18.9  "
      ]
     },
     "execution_count": 2,
     "metadata": {},
     "output_type": "execute_result"
    }
   ],
   "source": [
    "house_prices.head()"
   ]
  },
  {
   "cell_type": "code",
   "execution_count": 3,
   "id": "445f9fd1",
   "metadata": {},
   "outputs": [
    {
     "name": "stdout",
     "output_type": "stream",
     "text": [
      "<class 'pandas.core.frame.DataFrame'>\n",
      "RangeIndex: 455 entries, 0 to 454\n",
      "Data columns (total 14 columns):\n",
      " #   Column   Non-Null Count  Dtype  \n",
      "---  ------   --------------  -----  \n",
      " 0   CRIM     455 non-null    float64\n",
      " 1   ZN       455 non-null    float64\n",
      " 2   INDUS    455 non-null    float64\n",
      " 3   CHAS     455 non-null    int64  \n",
      " 4   NOX      455 non-null    float64\n",
      " 5   RM       455 non-null    float64\n",
      " 6   AGE      455 non-null    float64\n",
      " 7   DIS      455 non-null    float64\n",
      " 8   RAD      455 non-null    int64  \n",
      " 9   TAX      455 non-null    int64  \n",
      " 10  PIRATIO  455 non-null    float64\n",
      " 11  B        455 non-null    float64\n",
      " 12  LSTAT    455 non-null    float64\n",
      " 13  PRICE    455 non-null    float64\n",
      "dtypes: float64(11), int64(3)\n",
      "memory usage: 49.9 KB\n"
     ]
    }
   ],
   "source": [
    "#数据基本信息：样本个数，特征数，特征类型，\n",
    "house_prices.info()"
   ]
  },
  {
   "cell_type": "code",
   "execution_count": 4,
   "id": "31cb8025",
   "metadata": {},
   "outputs": [
    {
     "data": {
      "text/html": [
       "<div>\n",
       "<style scoped>\n",
       "    .dataframe tbody tr th:only-of-type {\n",
       "        vertical-align: middle;\n",
       "    }\n",
       "\n",
       "    .dataframe tbody tr th {\n",
       "        vertical-align: top;\n",
       "    }\n",
       "\n",
       "    .dataframe thead th {\n",
       "        text-align: right;\n",
       "    }\n",
       "</style>\n",
       "<table border=\"1\" class=\"dataframe\">\n",
       "  <thead>\n",
       "    <tr style=\"text-align: right;\">\n",
       "      <th></th>\n",
       "      <th>CRIM</th>\n",
       "      <th>ZN</th>\n",
       "      <th>INDUS</th>\n",
       "      <th>CHAS</th>\n",
       "      <th>NOX</th>\n",
       "      <th>RM</th>\n",
       "      <th>AGE</th>\n",
       "      <th>DIS</th>\n",
       "      <th>RAD</th>\n",
       "      <th>TAX</th>\n",
       "      <th>PIRATIO</th>\n",
       "      <th>B</th>\n",
       "      <th>LSTAT</th>\n",
       "      <th>PRICE</th>\n",
       "    </tr>\n",
       "  </thead>\n",
       "  <tbody>\n",
       "    <tr>\n",
       "      <th>count</th>\n",
       "      <td>455.000000</td>\n",
       "      <td>455.000000</td>\n",
       "      <td>455.000000</td>\n",
       "      <td>455.000000</td>\n",
       "      <td>455.000000</td>\n",
       "      <td>455.000000</td>\n",
       "      <td>455.000000</td>\n",
       "      <td>455.000000</td>\n",
       "      <td>455.000000</td>\n",
       "      <td>455.000000</td>\n",
       "      <td>455.000000</td>\n",
       "      <td>455.000000</td>\n",
       "      <td>455.000000</td>\n",
       "      <td>455.000000</td>\n",
       "    </tr>\n",
       "    <tr>\n",
       "      <th>mean</th>\n",
       "      <td>3.989784</td>\n",
       "      <td>10.912088</td>\n",
       "      <td>11.664110</td>\n",
       "      <td>0.072527</td>\n",
       "      <td>0.561758</td>\n",
       "      <td>6.263266</td>\n",
       "      <td>70.344835</td>\n",
       "      <td>3.664227</td>\n",
       "      <td>10.092308</td>\n",
       "      <td>420.778022</td>\n",
       "      <td>18.519780</td>\n",
       "      <td>353.272593</td>\n",
       "      <td>12.963385</td>\n",
       "      <td>22.212308</td>\n",
       "    </tr>\n",
       "    <tr>\n",
       "      <th>std</th>\n",
       "      <td>8.993398</td>\n",
       "      <td>23.130233</td>\n",
       "      <td>6.974787</td>\n",
       "      <td>0.259645</td>\n",
       "      <td>0.118627</td>\n",
       "      <td>0.704493</td>\n",
       "      <td>27.697196</td>\n",
       "      <td>2.118137</td>\n",
       "      <td>9.002217</td>\n",
       "      <td>172.326926</td>\n",
       "      <td>2.165215</td>\n",
       "      <td>95.557626</td>\n",
       "      <td>7.239069</td>\n",
       "      <td>9.241754</td>\n",
       "    </tr>\n",
       "    <tr>\n",
       "      <th>min</th>\n",
       "      <td>0.006320</td>\n",
       "      <td>0.000000</td>\n",
       "      <td>0.460000</td>\n",
       "      <td>0.000000</td>\n",
       "      <td>0.385000</td>\n",
       "      <td>3.561000</td>\n",
       "      <td>6.500000</td>\n",
       "      <td>1.129600</td>\n",
       "      <td>1.000000</td>\n",
       "      <td>187.000000</td>\n",
       "      <td>12.600000</td>\n",
       "      <td>0.320000</td>\n",
       "      <td>1.730000</td>\n",
       "      <td>5.000000</td>\n",
       "    </tr>\n",
       "    <tr>\n",
       "      <th>25%</th>\n",
       "      <td>0.084170</td>\n",
       "      <td>0.000000</td>\n",
       "      <td>5.190000</td>\n",
       "      <td>0.000000</td>\n",
       "      <td>0.453000</td>\n",
       "      <td>5.877500</td>\n",
       "      <td>47.200000</td>\n",
       "      <td>2.005550</td>\n",
       "      <td>4.000000</td>\n",
       "      <td>281.000000</td>\n",
       "      <td>17.400000</td>\n",
       "      <td>372.860000</td>\n",
       "      <td>7.205000</td>\n",
       "      <td>16.450000</td>\n",
       "    </tr>\n",
       "    <tr>\n",
       "      <th>50%</th>\n",
       "      <td>0.289600</td>\n",
       "      <td>0.000000</td>\n",
       "      <td>10.010000</td>\n",
       "      <td>0.000000</td>\n",
       "      <td>0.538000</td>\n",
       "      <td>6.193000</td>\n",
       "      <td>81.300000</td>\n",
       "      <td>2.894400</td>\n",
       "      <td>5.000000</td>\n",
       "      <td>358.000000</td>\n",
       "      <td>19.100000</td>\n",
       "      <td>391.450000</td>\n",
       "      <td>11.690000</td>\n",
       "      <td>20.800000</td>\n",
       "    </tr>\n",
       "    <tr>\n",
       "      <th>75%</th>\n",
       "      <td>4.548895</td>\n",
       "      <td>0.000000</td>\n",
       "      <td>18.100000</td>\n",
       "      <td>0.000000</td>\n",
       "      <td>0.647000</td>\n",
       "      <td>6.611000</td>\n",
       "      <td>94.650000</td>\n",
       "      <td>4.812200</td>\n",
       "      <td>24.000000</td>\n",
       "      <td>666.000000</td>\n",
       "      <td>20.200000</td>\n",
       "      <td>396.375000</td>\n",
       "      <td>17.200000</td>\n",
       "      <td>24.800000</td>\n",
       "    </tr>\n",
       "    <tr>\n",
       "      <th>max</th>\n",
       "      <td>88.976200</td>\n",
       "      <td>95.000000</td>\n",
       "      <td>27.740000</td>\n",
       "      <td>1.000000</td>\n",
       "      <td>0.871000</td>\n",
       "      <td>8.780000</td>\n",
       "      <td>100.000000</td>\n",
       "      <td>12.126500</td>\n",
       "      <td>24.000000</td>\n",
       "      <td>711.000000</td>\n",
       "      <td>22.000000</td>\n",
       "      <td>396.900000</td>\n",
       "      <td>37.970000</td>\n",
       "      <td>50.000000</td>\n",
       "    </tr>\n",
       "  </tbody>\n",
       "</table>\n",
       "</div>"
      ],
      "text/plain": [
       "             CRIM          ZN       INDUS        CHAS         NOX          RM  \\\n",
       "count  455.000000  455.000000  455.000000  455.000000  455.000000  455.000000   \n",
       "mean     3.989784   10.912088   11.664110    0.072527    0.561758    6.263266   \n",
       "std      8.993398   23.130233    6.974787    0.259645    0.118627    0.704493   \n",
       "min      0.006320    0.000000    0.460000    0.000000    0.385000    3.561000   \n",
       "25%      0.084170    0.000000    5.190000    0.000000    0.453000    5.877500   \n",
       "50%      0.289600    0.000000   10.010000    0.000000    0.538000    6.193000   \n",
       "75%      4.548895    0.000000   18.100000    0.000000    0.647000    6.611000   \n",
       "max     88.976200   95.000000   27.740000    1.000000    0.871000    8.780000   \n",
       "\n",
       "              AGE         DIS         RAD         TAX     PIRATIO           B  \\\n",
       "count  455.000000  455.000000  455.000000  455.000000  455.000000  455.000000   \n",
       "mean    70.344835    3.664227   10.092308  420.778022   18.519780  353.272593   \n",
       "std     27.697196    2.118137    9.002217  172.326926    2.165215   95.557626   \n",
       "min      6.500000    1.129600    1.000000  187.000000   12.600000    0.320000   \n",
       "25%     47.200000    2.005550    4.000000  281.000000   17.400000  372.860000   \n",
       "50%     81.300000    2.894400    5.000000  358.000000   19.100000  391.450000   \n",
       "75%     94.650000    4.812200   24.000000  666.000000   20.200000  396.375000   \n",
       "max    100.000000   12.126500   24.000000  711.000000   22.000000  396.900000   \n",
       "\n",
       "            LSTAT       PRICE  \n",
       "count  455.000000  455.000000  \n",
       "mean    12.963385   22.212308  \n",
       "std      7.239069    9.241754  \n",
       "min      1.730000    5.000000  \n",
       "25%      7.205000   16.450000  \n",
       "50%     11.690000   20.800000  \n",
       "75%     17.200000   24.800000  \n",
       "max     37.970000   50.000000  "
      ]
     },
     "execution_count": 4,
     "metadata": {},
     "output_type": "execute_result"
    }
   ],
   "source": [
    "#描述性统计，最大最小值，平均值等\n",
    "house_prices.describe()"
   ]
  },
  {
   "cell_type": "code",
   "execution_count": 5,
   "id": "74781e81",
   "metadata": {},
   "outputs": [
    {
     "data": {
      "text/plain": [
       "CRIM       0\n",
       "ZN         0\n",
       "INDUS      0\n",
       "CHAS       0\n",
       "NOX        0\n",
       "RM         0\n",
       "AGE        0\n",
       "DIS        0\n",
       "RAD        0\n",
       "TAX        0\n",
       "PIRATIO    0\n",
       "B          0\n",
       "LSTAT      0\n",
       "PRICE      0\n",
       "dtype: int64"
      ]
     },
     "execution_count": 5,
     "metadata": {},
     "output_type": "execute_result"
    }
   ],
   "source": [
    "#缺失值情况\n",
    "house_prices.isnull().sum()"
   ]
  },
  {
   "cell_type": "code",
   "execution_count": 6,
   "id": "d07f61ea",
   "metadata": {},
   "outputs": [],
   "source": [
    "#初步选择所需要的特征\n",
    "house_prices=house_prices[['CRIM','ZN','INDUS','NOX','RM','AGE','DIS','RAD','TAX','PIRATIO','B','LSTAT','PRICE']]"
   ]
  },
  {
   "cell_type": "code",
   "execution_count": 7,
   "id": "95cc1935",
   "metadata": {},
   "outputs": [
    {
     "data": {
      "text/html": [
       "<div>\n",
       "<style scoped>\n",
       "    .dataframe tbody tr th:only-of-type {\n",
       "        vertical-align: middle;\n",
       "    }\n",
       "\n",
       "    .dataframe tbody tr th {\n",
       "        vertical-align: top;\n",
       "    }\n",
       "\n",
       "    .dataframe thead th {\n",
       "        text-align: right;\n",
       "    }\n",
       "</style>\n",
       "<table border=\"1\" class=\"dataframe\">\n",
       "  <thead>\n",
       "    <tr style=\"text-align: right;\">\n",
       "      <th></th>\n",
       "      <th>CRIM</th>\n",
       "      <th>ZN</th>\n",
       "      <th>INDUS</th>\n",
       "      <th>NOX</th>\n",
       "      <th>RM</th>\n",
       "      <th>AGE</th>\n",
       "      <th>DIS</th>\n",
       "      <th>RAD</th>\n",
       "      <th>TAX</th>\n",
       "      <th>PIRATIO</th>\n",
       "      <th>B</th>\n",
       "      <th>LSTAT</th>\n",
       "      <th>PRICE</th>\n",
       "    </tr>\n",
       "  </thead>\n",
       "  <tbody>\n",
       "    <tr>\n",
       "      <th>count</th>\n",
       "      <td>455.000000</td>\n",
       "      <td>455.000000</td>\n",
       "      <td>455.000000</td>\n",
       "      <td>455.000000</td>\n",
       "      <td>455.000000</td>\n",
       "      <td>455.000000</td>\n",
       "      <td>455.000000</td>\n",
       "      <td>455.000000</td>\n",
       "      <td>455.000000</td>\n",
       "      <td>455.000000</td>\n",
       "      <td>455.000000</td>\n",
       "      <td>455.000000</td>\n",
       "      <td>455.000000</td>\n",
       "    </tr>\n",
       "    <tr>\n",
       "      <th>mean</th>\n",
       "      <td>3.989784</td>\n",
       "      <td>10.912088</td>\n",
       "      <td>11.664110</td>\n",
       "      <td>0.561758</td>\n",
       "      <td>6.263266</td>\n",
       "      <td>70.344835</td>\n",
       "      <td>3.664227</td>\n",
       "      <td>10.092308</td>\n",
       "      <td>420.778022</td>\n",
       "      <td>18.519780</td>\n",
       "      <td>353.272593</td>\n",
       "      <td>12.963385</td>\n",
       "      <td>22.212308</td>\n",
       "    </tr>\n",
       "    <tr>\n",
       "      <th>std</th>\n",
       "      <td>8.993398</td>\n",
       "      <td>23.130233</td>\n",
       "      <td>6.974787</td>\n",
       "      <td>0.118627</td>\n",
       "      <td>0.704493</td>\n",
       "      <td>27.697196</td>\n",
       "      <td>2.118137</td>\n",
       "      <td>9.002217</td>\n",
       "      <td>172.326926</td>\n",
       "      <td>2.165215</td>\n",
       "      <td>95.557626</td>\n",
       "      <td>7.239069</td>\n",
       "      <td>9.241754</td>\n",
       "    </tr>\n",
       "    <tr>\n",
       "      <th>min</th>\n",
       "      <td>0.006320</td>\n",
       "      <td>0.000000</td>\n",
       "      <td>0.460000</td>\n",
       "      <td>0.385000</td>\n",
       "      <td>3.561000</td>\n",
       "      <td>6.500000</td>\n",
       "      <td>1.129600</td>\n",
       "      <td>1.000000</td>\n",
       "      <td>187.000000</td>\n",
       "      <td>12.600000</td>\n",
       "      <td>0.320000</td>\n",
       "      <td>1.730000</td>\n",
       "      <td>5.000000</td>\n",
       "    </tr>\n",
       "    <tr>\n",
       "      <th>25%</th>\n",
       "      <td>0.084170</td>\n",
       "      <td>0.000000</td>\n",
       "      <td>5.190000</td>\n",
       "      <td>0.453000</td>\n",
       "      <td>5.877500</td>\n",
       "      <td>47.200000</td>\n",
       "      <td>2.005550</td>\n",
       "      <td>4.000000</td>\n",
       "      <td>281.000000</td>\n",
       "      <td>17.400000</td>\n",
       "      <td>372.860000</td>\n",
       "      <td>7.205000</td>\n",
       "      <td>16.450000</td>\n",
       "    </tr>\n",
       "    <tr>\n",
       "      <th>50%</th>\n",
       "      <td>0.289600</td>\n",
       "      <td>0.000000</td>\n",
       "      <td>10.010000</td>\n",
       "      <td>0.538000</td>\n",
       "      <td>6.193000</td>\n",
       "      <td>81.300000</td>\n",
       "      <td>2.894400</td>\n",
       "      <td>5.000000</td>\n",
       "      <td>358.000000</td>\n",
       "      <td>19.100000</td>\n",
       "      <td>391.450000</td>\n",
       "      <td>11.690000</td>\n",
       "      <td>20.800000</td>\n",
       "    </tr>\n",
       "    <tr>\n",
       "      <th>75%</th>\n",
       "      <td>4.548895</td>\n",
       "      <td>0.000000</td>\n",
       "      <td>18.100000</td>\n",
       "      <td>0.647000</td>\n",
       "      <td>6.611000</td>\n",
       "      <td>94.650000</td>\n",
       "      <td>4.812200</td>\n",
       "      <td>24.000000</td>\n",
       "      <td>666.000000</td>\n",
       "      <td>20.200000</td>\n",
       "      <td>396.375000</td>\n",
       "      <td>17.200000</td>\n",
       "      <td>24.800000</td>\n",
       "    </tr>\n",
       "    <tr>\n",
       "      <th>max</th>\n",
       "      <td>88.976200</td>\n",
       "      <td>95.000000</td>\n",
       "      <td>27.740000</td>\n",
       "      <td>0.871000</td>\n",
       "      <td>8.780000</td>\n",
       "      <td>100.000000</td>\n",
       "      <td>12.126500</td>\n",
       "      <td>24.000000</td>\n",
       "      <td>711.000000</td>\n",
       "      <td>22.000000</td>\n",
       "      <td>396.900000</td>\n",
       "      <td>37.970000</td>\n",
       "      <td>50.000000</td>\n",
       "    </tr>\n",
       "  </tbody>\n",
       "</table>\n",
       "</div>"
      ],
      "text/plain": [
       "             CRIM          ZN       INDUS         NOX          RM         AGE  \\\n",
       "count  455.000000  455.000000  455.000000  455.000000  455.000000  455.000000   \n",
       "mean     3.989784   10.912088   11.664110    0.561758    6.263266   70.344835   \n",
       "std      8.993398   23.130233    6.974787    0.118627    0.704493   27.697196   \n",
       "min      0.006320    0.000000    0.460000    0.385000    3.561000    6.500000   \n",
       "25%      0.084170    0.000000    5.190000    0.453000    5.877500   47.200000   \n",
       "50%      0.289600    0.000000   10.010000    0.538000    6.193000   81.300000   \n",
       "75%      4.548895    0.000000   18.100000    0.647000    6.611000   94.650000   \n",
       "max     88.976200   95.000000   27.740000    0.871000    8.780000  100.000000   \n",
       "\n",
       "              DIS         RAD         TAX     PIRATIO           B       LSTAT  \\\n",
       "count  455.000000  455.000000  455.000000  455.000000  455.000000  455.000000   \n",
       "mean     3.664227   10.092308  420.778022   18.519780  353.272593   12.963385   \n",
       "std      2.118137    9.002217  172.326926    2.165215   95.557626    7.239069   \n",
       "min      1.129600    1.000000  187.000000   12.600000    0.320000    1.730000   \n",
       "25%      2.005550    4.000000  281.000000   17.400000  372.860000    7.205000   \n",
       "50%      2.894400    5.000000  358.000000   19.100000  391.450000   11.690000   \n",
       "75%      4.812200   24.000000  666.000000   20.200000  396.375000   17.200000   \n",
       "max     12.126500   24.000000  711.000000   22.000000  396.900000   37.970000   \n",
       "\n",
       "            PRICE  \n",
       "count  455.000000  \n",
       "mean    22.212308  \n",
       "std      9.241754  \n",
       "min      5.000000  \n",
       "25%     16.450000  \n",
       "50%     20.800000  \n",
       "75%     24.800000  \n",
       "max     50.000000  "
      ]
     },
     "execution_count": 7,
     "metadata": {},
     "output_type": "execute_result"
    }
   ],
   "source": [
    "house_prices.describe()"
   ]
  },
  {
   "cell_type": "code",
   "execution_count": 8,
   "id": "474a1f0a",
   "metadata": {},
   "outputs": [
    {
     "data": {
      "text/plain": [
       "<AxesSubplot:>"
      ]
     },
     "execution_count": 8,
     "metadata": {},
     "output_type": "execute_result"
    },
    {
     "data": {
      "image/png": "[encoded data removed]",
      "text/plain": [
       "<Figure size 432x288 with 1 Axes>"
      ]
     },
     "metadata": {},
     "output_type": "display_data"
    }
   ],
   "source": [
    "#定类数据'RAD'绘制柱状图\n",
    "house_prices['RAD'].value_counts(ascending=False).plot(kind='bar')"
   ]
  },
  {
   "cell_type": "code",
   "execution_count": 9,
   "id": "60d7c967",
   "metadata": {},
   "outputs": [
    {
     "data": {
      "text/plain": [
       "<AxesSubplot:>"
      ]
     },
     "execution_count": 9,
     "metadata": {},
     "output_type": "execute_result"
    },
    {
     "data": {
      "image/png": "[encoded data removed]",
      "text/plain": [
       "<Figure size 432x288 with 1 Axes>"
      ]
     },
     "metadata": {},
     "output_type": "display_data"
    }
   ],
   "source": [
    "#定序等级：有排序、等级之分，可以比较，可以计算中位数，如评级\n",
    "\n",
    "#仍以房价预测数据为例，对'RAD'特征绘制箱线图\n",
    "house_prices['RAD'].value_counts(ascending=False).plot(kind='box')"
   ]
  },
  {
   "cell_type": "code",
   "execution_count": 10,
   "id": "6b38b597",
   "metadata": {},
   "outputs": [
    {
     "data": {
      "text/plain": [
       "<AxesSubplot:>"
      ]
     },
     "execution_count": 10,
     "metadata": {},
     "output_type": "execute_result"
    },
    {
     "data": {
      "image/png": "[encoded data removed]",
      "text/plain": [
       "<Figure size 432x288 with 1 Axes>"
      ]
     },
     "metadata": {},
     "output_type": "display_data"
    }
   ],
   "source": [
    "#定距等级：不仅可以比较，还可以进行加减，可以计算均值和方差\n",
    "\n",
    "#选择'CRIM'特征绘制直方图，大致显示频率大小\n",
    "house_prices['CRIM'].hist()"
   ]
  },
  {
   "cell_type": "code",
   "execution_count": 21,
   "id": "882e7bc4",
   "metadata": {},
   "outputs": [
    {
     "data": {
      "text/plain": [
       "Text(0.5, 1.0, 'Top 20 high tax by mean')"
      ]
     },
     "execution_count": 21,
     "metadata": {},
     "output_type": "execute_result"
    },
    {
     "data": {
      "image/png": "[encoded data removed]",
      "text/plain": [
       "<Figure size 1080x360 with 1 Axes>"
      ]
     },
     "metadata": {},
     "output_type": "display_data"
    }
   ],
   "source": [
    "#定比等级：可以进行乘除运算，且以0点作为参照\n",
    "fig=plt.figure(figsize=(15,5))\n",
    "ax=fig.gca()#返回当前轴\n",
    "#按照DIS特征对TAX进行分组并取出前20个税率最高的DIS\n",
    "house_prices.groupby('DIS')[['TAX']].mean().sort_values('TAX',ascending=False).head(20).plot.bar(stacked=False,ax=ax,color='darkorange')\n",
    "ax.set_title('Top 20 high tax by mean')"
   ]
  },
  {
   "cell_type": "code",
   "execution_count": 17,
   "id": "86c9fb7e",
   "metadata": {},
   "outputs": [
    {
     "data": {
      "text/plain": [
       "Text(0.5, 1.0, 'Bottom 20 high tax by mean')"
      ]
     },
     "execution_count": 17,
     "metadata": {},
     "output_type": "execute_result"
    },
    {
     "data": {
      "image/png": "[encoded data removed]",
      "text/plain": [
       "<Figure size 1080x360 with 1 Axes>"
      ]
     },
     "metadata": {},
     "output_type": "display_data"
    }
   ],
   "source": [
    "fig=plt.figure(figsize=(15,5))\n",
    "ax=fig.gca()#返回当前轴\n",
    "#按照DIS特征对TAX进行分组并取出最后20个税率最低的DIS\n",
    "house_prices.groupby('DIS')[['TAX']].mean().sort_values('TAX',ascending=False).tail(20).plot.bar(stacked=False,ax=ax,color='darkorange')\n",
    "ax.set_title('Bottom 20 high tax by mean')"
   ]
  },
  {
   "cell_type": "code",
   "execution_count": 19,
   "id": "bebf71fc",
   "metadata": {},
   "outputs": [
    {
     "data": {
      "text/plain": [
       "3.802139037433155"
      ]
     },
     "execution_count": 19,
     "metadata": {},
     "output_type": "execute_result"
    }
   ],
   "source": [
    "#最高税率与最低税率的比值\n",
    "rate=house_prices.groupby('DIS')[['TAX']].mean().sort_values('TAX',ascending=False)\n",
    "rate.iloc[0][0]/rate.iloc[-1][0]"
   ]
  },
  {
   "cell_type": "markdown",
   "id": "8668d43c",
   "metadata": {},
   "source": [
    "2.总结\n",
    "\n",
    "| 等级 |         属性         |         例子         |  描述性统计  |      图表      |\n",
    "| :--: | :------------------: | :------------------: | :----------: | :------------: |\n",
    "| 定类 |      离散、无序      |    人名、油漆颜色    | 百分数、众数 |  柱状图、饼图  |\n",
    "| 定序 |    有序类别、比较    | 李克特量表、考试等级 | 频率、中位数 |     茎叶图     |\n",
    "| 定距 |    数字差别有意义    |         温度         | 均值、标准差 | 直方图、箱线图 |\n",
    "| 定比 | 连续，零点，可以乘除 |         体重         | 均值、标准差 | 直方图、箱线图 |\n",
    "\n",
    "|     统计量     | 定类 | 定序 | 定距 |   定比   |\n",
    "| :------------: | :--: | :--: | :--: | :------: |\n",
    "|      众数      |  √   |  √   |  √   | 有时可行 |\n",
    "|     中位数     |  ×   |  √   |  √   |    √     |\n",
    "| 最小值、最大值 |  ×   |  √   |  √   |    √     |\n",
    "|      均值      |  ×   |  ×   |  √   |    √     |\n",
    "|     标准差     |  ×   |  ×   |  √   |    √     |\n",
    "\n",
    "拿到数据集时，基本的流程：<br />\n",
    "（1）数据有没有结构，以表格存在有不同的行和列，还是以文本格式存在；<br />\n",
    "（2）每列的数据是定性的还是定量的，单元格中的数据类型；<br />\n",
    "（3）每列处于哪个等级，定类，定序，定距，定比；<br />\n",
    "（4）使用什么图表可视化。\n"
   ]
  },
  {
   "attachments": {
    "%E6%95%B0%E6%8D%AE%E7%B1%BB%E5%9E%8B.png": {
     "image/png": "[encoded data removed]"
    }
   },
   "cell_type": "markdown",
   "id": "0bf075cd",
   "metadata": {},
   "source": [
    "![%E6%95%B0%E6%8D%AE%E7%B1%BB%E5%9E%8B.png](attachment:%E6%95%B0%E6%8D%AE%E7%B1%BB%E5%9E%8B.png)"
   ]
  }
 ],
 "metadata": {
  "kernelspec": {
   "display_name": "Python 3 (ipykernel)",
   "language": "python",
   "name": "python3"
  },
  "language_info": {
   "codemirror_mode": {
    "name": "ipython",
    "version": 3
   },
   "file_extension": ".py",
   "mimetype": "text/x-python",
   "name": "python",
   "nbconvert_exporter": "python",
   "pygments_lexer": "ipython3",
   "version": "3.9.0"
  }
 },
 "nbformat": 4,
 "nbformat_minor": 5
}
